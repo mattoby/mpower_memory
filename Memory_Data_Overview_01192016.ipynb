{
 "cells": [
  {
   "cell_type": "markdown",
   "metadata": {},
   "source": [
    "# Memory task initial data exploration\n",
    "## Matt Oberhardt\n",
    "\n"
   ]
  },
  {
   "cell_type": "markdown",
   "metadata": {},
   "source": [
    "### Imports & API calls:"
   ]
  },
  {
   "cell_type": "code",
   "execution_count": 1,
   "metadata": {
    "collapsed": false
   },
   "outputs": [],
   "source": [
    "import synapseclient\n",
    "from synapseclient import Project, Folder, File\n",
    "import pandas as pd\n",
    "import json\n",
    "import pickle\n",
    "import re\n",
    "import matplotlib.pyplot as plt\n",
    "import matplotlib.patches as patches\n",
    "import numpy as np\n",
    "import os\n",
    "%matplotlib inline  \n",
    "# from pandas import DataFrame, Series\n"
   ]
  },
  {
   "cell_type": "code",
   "execution_count": 2,
   "metadata": {
    "collapsed": true
   },
   "outputs": [],
   "source": [
    "\n",
    "\n",
    "# log in\n",
    "def login_synapse(username, password):\n",
    "    syn = synapseclient.Synapse()\n",
    "    syn.login(username, password) # need to change this, security.\n",
    "    return syn\n",
    "\n",
    "\n",
    "# get the memory table up and running:\n",
    "def load_memory_table_from_synapse(syn):\n",
    "    memorysyn = syn.tableQuery(\"select * from %s\" % 'syn5511434')\n",
    "    memory = memorysyn.asDataFrame()\n",
    "\n",
    "    # rename columns:\n",
    "    memory.columns = [u'recordId', u'healthCode', u'createdOn',\n",
    "        u'appVersion', u'phoneInfo', u'game_score',\n",
    "        u'game_numGames', u'game_numFails', u'game_startDate',\n",
    "        u'game_endDate', u'game_records', u'medTimepoint']\n",
    "\n",
    "    # remove rows with null in the game_records column:\n",
    "    memory = memory.dropna(subset=[\"game_records\"])\n",
    "\n",
    "    # Convert 'game_records' into a text key that matches filePaths:\n",
    "    for rec in memory.game_records:\n",
    "        assert (len(str(rec)) == 9), \"records will not be parsed right since they are not the correct length - check %s\" % rec\n",
    "    memory['game_records_txt'] = memory.game_records.apply(lambda r: str(r)[:7])\n",
    "\n",
    "    # finish:\n",
    "    return memory, memorysyn\n",
    "\n",
    "\n",
    "# get the demographics table up and running:\n",
    "def load_demographics_table_from_synapse(syn):\n",
    "    demosyn = syn.tableQuery(\"select * from %s\" % 'syn5511429')\n",
    "    demographics = demosyn.asDataFrame()\n",
    "\n",
    "    # rename columns:\n",
    "    demographics.columns = ([u'recordId', u'healthCode', u'createdOn', u'appVersion', u'phoneInfo',\n",
    "       u'age', u'isCaretaker', u'brainStim', u'diagYear',\n",
    "       u'education', u'employment', u'gender', u'healthHistory',\n",
    "       u'healthcareProvider', u'homeUsage', u'lastSmoked', u'maritalStatus',\n",
    "       u'medicalUsage', u'medicalUsageYesterday', u'medicationStartYear',\n",
    "       u'onsetYear', u'packsPerDay', u'pastParticipation', u'phoneUsage',\n",
    "       u'professionalDiagnosis', u'race', u'smartphone', u'smoked',\n",
    "       u'surgery', u'videoUsage', u'yearsSmoking'])\n",
    "\n",
    "    # finish:\n",
    "    return demographics, demosyn\n",
    "\n",
    "\n",
    "# get the json files (slow, only load from scratch once):\n",
    "def load_memory_game_results_from_synapse(syn, memorysyn, fromScratch = False):\n",
    "    if fromScratch:\n",
    "        filePaths = syn.downloadTableColumns(memorysyn, u'MemoryGameResults.json.MemoryGameGameRecords')\n",
    "        pickle.dump( filePaths, open( \"filePaths_for_memory.p\", \"wb\" ) )\n",
    "    else:\n",
    "        filePaths = pickle.load( open( \"filePaths_for_memory.p\", \"rb\" ) )\n",
    "    return filePaths\n",
    "\n",
    "\n",
    "# load in the json data for a memory test:\n",
    "def load_memory_results_json(filePaths, game_record_txt):\n",
    "#    with open(filePaths[u'5732386']) as data_file:\n",
    "    with open(filePaths[game_record_txt]) as data_file:\n",
    "        game_record = json.load(data_file)\n",
    "    return game_record\n",
    "\n",
    "\n"
   ]
  },
  {
   "cell_type": "markdown",
   "metadata": {},
   "source": [
    "### Load up the memory & demographic data:"
   ]
  },
  {
   "cell_type": "code",
   "execution_count": 3,
   "metadata": {
    "collapsed": false
   },
   "outputs": [
    {
     "name": "stdout",
     "output_type": "stream",
     "text": [
      "Welcome, Matthew Oberhardt!\n"
     ]
    }
   ],
   "source": [
    "## load in the data:\n",
    "\n",
    "# logs in with credentials from os environment)\n",
    "syn = login_synapse(os.environ['SYNAPSE_USER'], os.environ['SYNAPSE_PASS']) \n",
    "\n",
    "# load up tables:\n",
    "memory, memorysyn = load_memory_table_from_synapse(syn)\n",
    "filePaths = load_memory_game_results_from_synapse(syn, memorysyn)\n",
    "demographics, demosyn = load_demographics_table_from_synapse(syn)\n",
    "data = pd.merge(left=memory, right=demographics, how='inner', left_on='healthCode', right_on='healthCode')\n",
    "\n",
    "# data is the main table, with memory and demographic data"
   ]
  },
  {
   "cell_type": "code",
   "execution_count": null,
   "metadata": {
    "collapsed": false
   },
   "outputs": [],
   "source": []
  },
  {
   "cell_type": "markdown",
   "metadata": {
    "collapsed": true
   },
   "source": [
    "### Visualize the memory data:"
   ]
  },
  {
   "cell_type": "markdown",
   "metadata": {},
   "source": [
    "#### Columns:"
   ]
  },
  {
   "cell_type": "code",
   "execution_count": 34,
   "metadata": {
    "collapsed": false,
    "scrolled": true
   },
   "outputs": [
    {
     "name": "stdout",
     "output_type": "stream",
     "text": [
      "recordId_x\n",
      "healthCode\n",
      "createdOn_x\n",
      "appVersion_x\n",
      "phoneInfo_x\n",
      "game_score\n",
      "game_numGames\n",
      "game_numFails\n",
      "game_startDate\n",
      "game_endDate\n",
      "game_records\n",
      "medTimepoint\n",
      "game_records_txt\n",
      "recordId_y\n",
      "createdOn_y\n",
      "appVersion_y\n",
      "phoneInfo_y\n",
      "age\n",
      "isCaretaker\n",
      "brainStim\n",
      "diagYear\n",
      "education\n",
      "employment\n",
      "gender\n",
      "healthHistory\n",
      "healthcareProvider\n",
      "homeUsage\n",
      "lastSmoked\n",
      "maritalStatus\n",
      "medicalUsage\n",
      "medicalUsageYesterday\n",
      "medicationStartYear\n",
      "onsetYear\n",
      "packsPerDay\n",
      "pastParticipation\n",
      "phoneUsage\n",
      "professionalDiagnosis\n",
      "race\n",
      "smartphone\n",
      "smoked\n",
      "surgery\n",
      "videoUsage\n",
      "yearsSmoking\n"
     ]
    }
   ],
   "source": [
    "# columns:\n",
    "for col in data.columns:\n",
    "    print col"
   ]
  },
  {
   "cell_type": "code",
   "execution_count": 35,
   "metadata": {
    "collapsed": false,
    "scrolled": true
   },
   "outputs": [
    {
     "data": {
      "text/html": [
       "<div>\n",
       "<table border=\"1\" class=\"dataframe\">\n",
       "  <thead>\n",
       "    <tr style=\"text-align: right;\">\n",
       "      <th></th>\n",
       "      <th>createdOn_x</th>\n",
       "      <th>game_score</th>\n",
       "      <th>game_numGames</th>\n",
       "      <th>game_numFails</th>\n",
       "      <th>game_startDate</th>\n",
       "      <th>game_endDate</th>\n",
       "      <th>game_records</th>\n",
       "      <th>createdOn_y</th>\n",
       "      <th>age</th>\n",
       "      <th>diagYear</th>\n",
       "      <th>lastSmoked</th>\n",
       "      <th>medicationStartYear</th>\n",
       "      <th>onsetYear</th>\n",
       "      <th>packsPerDay</th>\n",
       "      <th>yearsSmoking</th>\n",
       "    </tr>\n",
       "  </thead>\n",
       "  <tbody>\n",
       "    <tr>\n",
       "      <th>count</th>\n",
       "      <td>7.981000e+03</td>\n",
       "      <td>7981.000000</td>\n",
       "      <td>7981.000000</td>\n",
       "      <td>7981.000000</td>\n",
       "      <td>7.981000e+03</td>\n",
       "      <td>7.981000e+03</td>\n",
       "      <td>7981.000000</td>\n",
       "      <td>7.981000e+03</td>\n",
       "      <td>7966.000000</td>\n",
       "      <td>6231.000000</td>\n",
       "      <td>2355.000000</td>\n",
       "      <td>6819.000000</td>\n",
       "      <td>6544.000000</td>\n",
       "      <td>2087.000000</td>\n",
       "      <td>2426.000000</td>\n",
       "    </tr>\n",
       "    <tr>\n",
       "      <th>mean</th>\n",
       "      <td>1.434635e+12</td>\n",
       "      <td>261.678988</td>\n",
       "      <td>4.996617</td>\n",
       "      <td>1.326651</td>\n",
       "      <td>1.434635e+12</td>\n",
       "      <td>1.434635e+12</td>\n",
       "      <td>5644469.313119</td>\n",
       "      <td>1.429334e+12</td>\n",
       "      <td>61.540673</td>\n",
       "      <td>2010.660889</td>\n",
       "      <td>1983.901911</td>\n",
       "      <td>1697.334507</td>\n",
       "      <td>2008.960880</td>\n",
       "      <td>1.176809</td>\n",
       "      <td>11.690025</td>\n",
       "    </tr>\n",
       "    <tr>\n",
       "      <th>std</th>\n",
       "      <td>3.626476e+09</td>\n",
       "      <td>59.984544</td>\n",
       "      <td>0.069827</td>\n",
       "      <td>0.581182</td>\n",
       "      <td>3.626477e+09</td>\n",
       "      <td>3.626475e+09</td>\n",
       "      <td>164683.766810</td>\n",
       "      <td>4.026537e+09</td>\n",
       "      <td>13.772669</td>\n",
       "      <td>3.699084</td>\n",
       "      <td>15.217572</td>\n",
       "      <td>729.861338</td>\n",
       "      <td>4.690024</td>\n",
       "      <td>0.389063</td>\n",
       "      <td>9.427551</td>\n",
       "    </tr>\n",
       "    <tr>\n",
       "      <th>min</th>\n",
       "      <td>1.429653e+12</td>\n",
       "      <td>0.000000</td>\n",
       "      <td>3.000000</td>\n",
       "      <td>0.000000</td>\n",
       "      <td>1.429653e+12</td>\n",
       "      <td>1.429653e+12</td>\n",
       "      <td>5413309.000000</td>\n",
       "      <td>1.425929e+12</td>\n",
       "      <td>18.000000</td>\n",
       "      <td>1976.000000</td>\n",
       "      <td>1959.000000</td>\n",
       "      <td>0.000000</td>\n",
       "      <td>1900.000000</td>\n",
       "      <td>1.000000</td>\n",
       "      <td>0.000000</td>\n",
       "    </tr>\n",
       "    <tr>\n",
       "      <th>25%</th>\n",
       "      <td>1.431271e+12</td>\n",
       "      <td>225.000000</td>\n",
       "      <td>5.000000</td>\n",
       "      <td>1.000000</td>\n",
       "      <td>1.431271e+12</td>\n",
       "      <td>1.431271e+12</td>\n",
       "      <td>5517020.000000</td>\n",
       "      <td>1.426032e+12</td>\n",
       "      <td>59.000000</td>\n",
       "      <td>2009.000000</td>\n",
       "      <td>1972.000000</td>\n",
       "      <td>2006.000000</td>\n",
       "      <td>2007.000000</td>\n",
       "      <td>1.000000</td>\n",
       "      <td>5.000000</td>\n",
       "    </tr>\n",
       "    <tr>\n",
       "      <th>50%</th>\n",
       "      <td>1.434057e+12</td>\n",
       "      <td>260.000000</td>\n",
       "      <td>5.000000</td>\n",
       "      <td>1.000000</td>\n",
       "      <td>1.434057e+12</td>\n",
       "      <td>1.434057e+12</td>\n",
       "      <td>5620601.000000</td>\n",
       "      <td>1.427230e+12</td>\n",
       "      <td>65.000000</td>\n",
       "      <td>2012.000000</td>\n",
       "      <td>1979.000000</td>\n",
       "      <td>2012.000000</td>\n",
       "      <td>2010.000000</td>\n",
       "      <td>1.000000</td>\n",
       "      <td>8.000000</td>\n",
       "    </tr>\n",
       "    <tr>\n",
       "      <th>75%</th>\n",
       "      <td>1.437578e+12</td>\n",
       "      <td>300.000000</td>\n",
       "      <td>5.000000</td>\n",
       "      <td>2.000000</td>\n",
       "      <td>1.437578e+12</td>\n",
       "      <td>1.437578e+12</td>\n",
       "      <td>5733201.000000</td>\n",
       "      <td>1.431799e+12</td>\n",
       "      <td>70.000000</td>\n",
       "      <td>2013.000000</td>\n",
       "      <td>1993.000000</td>\n",
       "      <td>2013.000000</td>\n",
       "      <td>2012.000000</td>\n",
       "      <td>1.000000</td>\n",
       "      <td>20.000000</td>\n",
       "    </tr>\n",
       "    <tr>\n",
       "      <th>max</th>\n",
       "      <td>1.441842e+12</td>\n",
       "      <td>400.000000</td>\n",
       "      <td>5.000000</td>\n",
       "      <td>4.000000</td>\n",
       "      <td>1.441841e+12</td>\n",
       "      <td>1.441842e+12</td>\n",
       "      <td>6959194.000000</td>\n",
       "      <td>1.441841e+12</td>\n",
       "      <td>90.000000</td>\n",
       "      <td>2015.000000</td>\n",
       "      <td>2015.000000</td>\n",
       "      <td>2015.000000</td>\n",
       "      <td>2015.000000</td>\n",
       "      <td>5.000000</td>\n",
       "      <td>50.000000</td>\n",
       "    </tr>\n",
       "  </tbody>\n",
       "</table>\n",
       "</div>"
      ],
      "text/plain": [
       "        createdOn_x   game_score  game_numGames  game_numFails  \\\n",
       "count  7.981000e+03  7981.000000    7981.000000    7981.000000   \n",
       "mean   1.434635e+12   261.678988       4.996617       1.326651   \n",
       "std    3.626476e+09    59.984544       0.069827       0.581182   \n",
       "min    1.429653e+12     0.000000       3.000000       0.000000   \n",
       "25%    1.431271e+12   225.000000       5.000000       1.000000   \n",
       "50%    1.434057e+12   260.000000       5.000000       1.000000   \n",
       "75%    1.437578e+12   300.000000       5.000000       2.000000   \n",
       "max    1.441842e+12   400.000000       5.000000       4.000000   \n",
       "\n",
       "       game_startDate  game_endDate    game_records   createdOn_y  \\\n",
       "count    7.981000e+03  7.981000e+03     7981.000000  7.981000e+03   \n",
       "mean     1.434635e+12  1.434635e+12  5644469.313119  1.429334e+12   \n",
       "std      3.626477e+09  3.626475e+09   164683.766810  4.026537e+09   \n",
       "min      1.429653e+12  1.429653e+12  5413309.000000  1.425929e+12   \n",
       "25%      1.431271e+12  1.431271e+12  5517020.000000  1.426032e+12   \n",
       "50%      1.434057e+12  1.434057e+12  5620601.000000  1.427230e+12   \n",
       "75%      1.437578e+12  1.437578e+12  5733201.000000  1.431799e+12   \n",
       "max      1.441841e+12  1.441842e+12  6959194.000000  1.441841e+12   \n",
       "\n",
       "               age     diagYear   lastSmoked  medicationStartYear  \\\n",
       "count  7966.000000  6231.000000  2355.000000          6819.000000   \n",
       "mean     61.540673  2010.660889  1983.901911          1697.334507   \n",
       "std      13.772669     3.699084    15.217572           729.861338   \n",
       "min      18.000000  1976.000000  1959.000000             0.000000   \n",
       "25%      59.000000  2009.000000  1972.000000          2006.000000   \n",
       "50%      65.000000  2012.000000  1979.000000          2012.000000   \n",
       "75%      70.000000  2013.000000  1993.000000          2013.000000   \n",
       "max      90.000000  2015.000000  2015.000000          2015.000000   \n",
       "\n",
       "         onsetYear  packsPerDay  yearsSmoking  \n",
       "count  6544.000000  2087.000000   2426.000000  \n",
       "mean   2008.960880     1.176809     11.690025  \n",
       "std       4.690024     0.389063      9.427551  \n",
       "min    1900.000000     1.000000      0.000000  \n",
       "25%    2007.000000     1.000000      5.000000  \n",
       "50%    2010.000000     1.000000      8.000000  \n",
       "75%    2012.000000     1.000000     20.000000  \n",
       "max    2015.000000     5.000000     50.000000  "
      ]
     },
     "execution_count": 35,
     "metadata": {},
     "output_type": "execute_result"
    }
   ],
   "source": [
    "# summary stats:\n",
    "data.describe()"
   ]
  },
  {
   "cell_type": "code",
   "execution_count": 24,
   "metadata": {
    "collapsed": false
   },
   "outputs": [
    {
     "name": "stdout",
     "output_type": "stream",
     "text": [
      "The number of records with Parkinsons is 6263\n",
      "The number of records without Parkinsons is 1718\n",
      "The total number of records is 7981\n"
     ]
    }
   ],
   "source": [
    "#data.hasParkinsons =\n",
    "#print set(data.diagYear[~np.isnan(data.diagYear)])\n",
    "#print set(data.professionalDiagnosis)\n",
    "#print hasdiagyear.__class__\n",
    "#print hasprofessionalDiagnosis.__class__\n",
    "#print hasdiagyear\n",
    "#print sum(hasdiagyear)\n",
    "#print sum(hasprofessionalDiagnosis)\n",
    "#print sum(hasParkinsons)\n",
    "\n",
    "\n",
    "# separate to parkinsons and non parkinsons\n",
    "def has_parkinsons(data):\n",
    "    hasdiagyear = ~np.isnan(data.diagYear)\n",
    "    hasprofessionalDiagnosis = data.professionalDiagnosis == True\n",
    "    hasParkinsons = hasdiagyear | hasprofessionalDiagnosis\n",
    "    return hasParkinsons\n",
    "\n",
    "data['hasParkinsons'] = has_parkinsons(data)\n",
    "\n",
    "# Dataset for Parkinson's patients\n",
    "dPark = data[data.hasParkinsons == True] \n",
    "# Dataset for non-Parkinson's patients\n",
    "dNon = data[data.hasParkinsons == False]\n",
    "\n",
    "print 'The number of records with Parkinsons is %d' % len(dPark) # == sum(data['hasParkinsons'])\n",
    "print 'The number of records without Parkinsons is %d' % len(dNon) # == sum(~data['hasParkinsons'])\n",
    "print 'The total number of records is %d' % len(data)\n"
   ]
  },
  {
   "cell_type": "code",
   "execution_count": 52,
   "metadata": {
    "collapsed": false
   },
   "outputs": [
    {
     "data": {
      "image/png": "[encoded data removed]",
      "text/plain": [
       "<matplotlib.figure.Figure at 0x117d9dad0>"
      ]
     },
     "metadata": {},
     "output_type": "display_data"
    }
   ],
   "source": [
    "# plot the scores in Parkinsons and non-Parkinsons buckets\n",
    "dPark.game_score.hist(label=\"Parkinson's patients\")\n",
    "dNon.game_score.hist(label=\"non-Parkinson's patients\")\n",
    "plt.title(\"Memory game score Distributions\")\n",
    "plt.ylabel('memory game score')\n",
    "plt.xlabel('# records')\n",
    "plt.legend(bbox_to_anchor=(0, -.2), loc=2, borderaxespad=0.)\n",
    "pass"
   ]
  },
  {
   "cell_type": "code",
   "execution_count": null,
   "metadata": {
    "collapsed": true
   },
   "outputs": [],
   "source": [
    "# distribution of # records per Parkinson's and non-Parkinson's patient"
   ]
  },
  {
   "cell_type": "code",
   "execution_count": null,
   "metadata": {
    "collapsed": true
   },
   "outputs": [],
   "source": [
    "# look at, per patient, the records w/ different 'when took medicine' stats"
   ]
  },
  {
   "cell_type": "code",
   "execution_count": 36,
   "metadata": {
    "collapsed": false
   },
   "outputs": [
    {
     "name": "stdout",
     "output_type": "stream",
     "text": [
      "nan\n",
      "I don't take Parkinson medications\n",
      "Immediately before Parkinson medication\n",
      "Another time\n",
      "Just after Parkinson medication (at your best)\n"
     ]
    }
   ],
   "source": [
    "# game_scores for Parkinson's vs non\n",
    "\n",
    "for m in med_timepoint: \n",
    "    print m\n",
    "    \n",
    "doctor diagnosis & diagnosis year\n",
    "\n",
    "for     diagYear   \n",
    "    professionalDiagnosis\n",
    "    \n",
    "    \n",
    "    "
   ]
  },
  {
   "cell_type": "markdown",
   "metadata": {},
   "source": [
    "### Split into Parkinson's patients and non-patients"
   ]
  },
  {
   "cell_type": "code",
   "execution_count": 29,
   "metadata": {
    "collapsed": false
   },
   "outputs": [
    {
     "data": {
      "text/plain": [
       "Index([        u'recordId',       u'healthCode',        u'createdOn',\n",
       "             u'appVersion',        u'phoneInfo',       u'game_score',\n",
       "          u'game_numGames',    u'game_numFails',   u'game_startDate',\n",
       "           u'game_endDate',     u'game_records',     u'medTimepoint',\n",
       "       u'game_records_txt'],\n",
       "      dtype='object')"
      ]
     },
     "execution_count": 29,
     "metadata": {},
     "output_type": "execute_result"
    }
   ],
   "source": [
    "# the definitely parkinson's ones will have \n",
    "data.columns\n",
    "\n",
    "memory[col_name] = data.events.apply(lambda e: event_kind in e)\n",
    "   "
   ]
  },
  {
   "cell_type": "code",
   "execution_count": 30,
   "metadata": {
    "collapsed": false
   },
   "outputs": [
    {
     "data": {
      "text/plain": [
       "<matplotlib.axes._subplots.AxesSubplot at 0x1145d2f50>"
      ]
     },
     "execution_count": 30,
     "metadata": {},
     "output_type": "execute_result"
    },
    {
     "data": {
      "image/png": "[encoded data removed]",
      "text/plain": [
       "<matplotlib.figure.Figure at 0x11430d290>"
      ]
     },
     "metadata": {},
     "output_type": "display_data"
    }
   ],
   "source": [
    "memory.game_score.hist()"
   ]
  },
  {
   "cell_type": "code",
   "execution_count": null,
   "metadata": {
    "collapsed": true
   },
   "outputs": [],
   "source": []
  }
 ],
 "metadata": {
  "kernelspec": {
   "display_name": "Python 2",
   "language": "python",
   "name": "python2"
  },
  "language_info": {
   "codemirror_mode": {
    "name": "ipython",
    "version": 2
   },
   "file_extension": ".py",
   "mimetype": "text/x-python",
   "name": "python",
   "nbconvert_exporter": "python",
   "pygments_lexer": "ipython2",
   "version": "2.7.11"
  }
 },
 "nbformat": 4,
 "nbformat_minor": 0
}
